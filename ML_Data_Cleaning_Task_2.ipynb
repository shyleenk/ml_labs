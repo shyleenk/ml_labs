{
  "nbformat": 4,
  "nbformat_minor": 0,
  "metadata": {
    "colab": {
      "name": "ML Data Cleaning Task 2.ipynb",
      "provenance": [],
      "collapsed_sections": [
        "fv4hFLXzSKxg"
      ],
      "include_colab_link": true
    },
    "kernelspec": {
      "name": "python3",
      "display_name": "Python 3"
    },
    "language_info": {
      "name": "python"
    }
  },
  "cells": [
    {
      "cell_type": "markdown",
      "metadata": {
        "id": "view-in-github",
        "colab_type": "text"
      },
      "source": [
        "<a href=\"https://colab.research.google.com/github/shyleenk/ml_labs/blob/main/ML_Data_Cleaning_Task_2.ipynb\" target=\"_parent\"><img src=\"https://colab.research.google.com/assets/colab-badge.svg\" alt=\"Open In Colab\"/></a>"
      ]
    },
    {
      "cell_type": "markdown",
      "source": [
        "111218 Shyleen Mwadeghu"
      ],
      "metadata": {
        "id": "smlr3w7vhQvt"
      }
    },
    {
      "cell_type": "code",
      "execution_count": null,
      "metadata": {
        "id": "cyL_oWJRBROs"
      },
      "outputs": [],
      "source": [
        "import pandas as pd\n",
        "import numpy as np\n",
        "from sklearn.preprocessing import StandardScaler\n",
        "from sklearn.decomposition import PCA\n",
        "from sklearn.linear_model import LassoCV\n",
        "from google.colab import drive\n"
      ]
    },
    {
      "cell_type": "markdown",
      "source": [
        ""
      ],
      "metadata": {
        "id": "WiGbO5fNhQS-"
      }
    },
    {
      "cell_type": "markdown",
      "source": [
        "# **Preparing the Dataset for training**"
      ],
      "metadata": {
        "id": "Jsbz51mHVT6Z"
      }
    },
    {
      "cell_type": "code",
      "source": [
        "#mount google drive to access the dataset directly from the drive\n",
        "drive.mount('/content/drive')"
      ],
      "metadata": {
        "colab": {
          "base_uri": "https://localhost:8080/"
        },
        "id": "bpiLROGOOjyX",
        "outputId": "e7d211d3-1727-41a5-8b7c-15665c57beef"
      },
      "execution_count": null,
      "outputs": [
        {
          "output_type": "stream",
          "name": "stdout",
          "text": [
            "Mounted at /content/drive\n"
          ]
        }
      ]
    },
    {
      "cell_type": "code",
      "source": [
        "#fetch the dataset from the drive\n",
        "data=pd.read_csv('/content/drive/MyDrive/Machine Learning/Data/house-prices-advanced-regression-techniques/modified_data.csv')"
      ],
      "metadata": {
        "id": "8JmRzj_tOomQ"
      },
      "execution_count": null,
      "outputs": []
    },
    {
      "cell_type": "code",
      "source": [
        "#check if the dataset is imported successfully \n",
        "data.head(2)"
      ],
      "metadata": {
        "colab": {
          "base_uri": "https://localhost:8080/",
          "height": 205
        },
        "id": "mGF3VE2YUXCo",
        "outputId": "a6268e0f-12bc-4cd6-ec96-a898986a2d58"
      },
      "execution_count": null,
      "outputs": [
        {
          "output_type": "execute_result",
          "data": {
            "text/plain": [
              "   Id  MSSubClass MSZoning  LotFrontage  LotArea Street LotShape LandContour  \\\n",
              "0   1          60       RL         65.0     8450   Pave      Reg         Lvl   \n",
              "1   2          20       RL         80.0     9600   Pave      Reg         Lvl   \n",
              "\n",
              "  Utilities LotConfig  ... EnclosedPorch 3SsnPorch ScreenPorch PoolArea  \\\n",
              "0    AllPub    Inside  ...             0         0           0        0   \n",
              "1    AllPub       FR2  ...             0         0           0        0   \n",
              "\n",
              "  MiscVal MoSold  YrSold  SaleType  SaleCondition  SalePrice  \n",
              "0       0      2    2008        WD         Normal     208500  \n",
              "1       0      5    2007        WD         Normal     181500  \n",
              "\n",
              "[2 rows x 77 columns]"
            ],
            "text/html": [
              "\n",
              "  <div id=\"df-375b6fc3-b7d9-4ec2-a7b9-1ccd018f618d\">\n",
              "    <div class=\"colab-df-container\">\n",
              "      <div>\n",
              "<style scoped>\n",
              "    .dataframe tbody tr th:only-of-type {\n",
              "        vertical-align: middle;\n",
              "    }\n",
              "\n",
              "    .dataframe tbody tr th {\n",
              "        vertical-align: top;\n",
              "    }\n",
              "\n",
              "    .dataframe thead th {\n",
              "        text-align: right;\n",
              "    }\n",
              "</style>\n",
              "<table border=\"1\" class=\"dataframe\">\n",
              "  <thead>\n",
              "    <tr style=\"text-align: right;\">\n",
              "      <th></th>\n",
              "      <th>Id</th>\n",
              "      <th>MSSubClass</th>\n",
              "      <th>MSZoning</th>\n",
              "      <th>LotFrontage</th>\n",
              "      <th>LotArea</th>\n",
              "      <th>Street</th>\n",
              "      <th>LotShape</th>\n",
              "      <th>LandContour</th>\n",
              "      <th>Utilities</th>\n",
              "      <th>LotConfig</th>\n",
              "      <th>...</th>\n",
              "      <th>EnclosedPorch</th>\n",
              "      <th>3SsnPorch</th>\n",
              "      <th>ScreenPorch</th>\n",
              "      <th>PoolArea</th>\n",
              "      <th>MiscVal</th>\n",
              "      <th>MoSold</th>\n",
              "      <th>YrSold</th>\n",
              "      <th>SaleType</th>\n",
              "      <th>SaleCondition</th>\n",
              "      <th>SalePrice</th>\n",
              "    </tr>\n",
              "  </thead>\n",
              "  <tbody>\n",
              "    <tr>\n",
              "      <th>0</th>\n",
              "      <td>1</td>\n",
              "      <td>60</td>\n",
              "      <td>RL</td>\n",
              "      <td>65.0</td>\n",
              "      <td>8450</td>\n",
              "      <td>Pave</td>\n",
              "      <td>Reg</td>\n",
              "      <td>Lvl</td>\n",
              "      <td>AllPub</td>\n",
              "      <td>Inside</td>\n",
              "      <td>...</td>\n",
              "      <td>0</td>\n",
              "      <td>0</td>\n",
              "      <td>0</td>\n",
              "      <td>0</td>\n",
              "      <td>0</td>\n",
              "      <td>2</td>\n",
              "      <td>2008</td>\n",
              "      <td>WD</td>\n",
              "      <td>Normal</td>\n",
              "      <td>208500</td>\n",
              "    </tr>\n",
              "    <tr>\n",
              "      <th>1</th>\n",
              "      <td>2</td>\n",
              "      <td>20</td>\n",
              "      <td>RL</td>\n",
              "      <td>80.0</td>\n",
              "      <td>9600</td>\n",
              "      <td>Pave</td>\n",
              "      <td>Reg</td>\n",
              "      <td>Lvl</td>\n",
              "      <td>AllPub</td>\n",
              "      <td>FR2</td>\n",
              "      <td>...</td>\n",
              "      <td>0</td>\n",
              "      <td>0</td>\n",
              "      <td>0</td>\n",
              "      <td>0</td>\n",
              "      <td>0</td>\n",
              "      <td>5</td>\n",
              "      <td>2007</td>\n",
              "      <td>WD</td>\n",
              "      <td>Normal</td>\n",
              "      <td>181500</td>\n",
              "    </tr>\n",
              "  </tbody>\n",
              "</table>\n",
              "<p>2 rows × 77 columns</p>\n",
              "</div>\n",
              "      <button class=\"colab-df-convert\" onclick=\"convertToInteractive('df-375b6fc3-b7d9-4ec2-a7b9-1ccd018f618d')\"\n",
              "              title=\"Convert this dataframe to an interactive table.\"\n",
              "              style=\"display:none;\">\n",
              "        \n",
              "  <svg xmlns=\"http://www.w3.org/2000/svg\" height=\"24px\"viewBox=\"0 0 24 24\"\n",
              "       width=\"24px\">\n",
              "    <path d=\"M0 0h24v24H0V0z\" fill=\"none\"/>\n",
              "    <path d=\"M18.56 5.44l.94 2.06.94-2.06 2.06-.94-2.06-.94-.94-2.06-.94 2.06-2.06.94zm-11 1L8.5 8.5l.94-2.06 2.06-.94-2.06-.94L8.5 2.5l-.94 2.06-2.06.94zm10 10l.94 2.06.94-2.06 2.06-.94-2.06-.94-.94-2.06-.94 2.06-2.06.94z\"/><path d=\"M17.41 7.96l-1.37-1.37c-.4-.4-.92-.59-1.43-.59-.52 0-1.04.2-1.43.59L10.3 9.45l-7.72 7.72c-.78.78-.78 2.05 0 2.83L4 21.41c.39.39.9.59 1.41.59.51 0 1.02-.2 1.41-.59l7.78-7.78 2.81-2.81c.8-.78.8-2.07 0-2.86zM5.41 20L4 18.59l7.72-7.72 1.47 1.35L5.41 20z\"/>\n",
              "  </svg>\n",
              "      </button>\n",
              "      \n",
              "  <style>\n",
              "    .colab-df-container {\n",
              "      display:flex;\n",
              "      flex-wrap:wrap;\n",
              "      gap: 12px;\n",
              "    }\n",
              "\n",
              "    .colab-df-convert {\n",
              "      background-color: #E8F0FE;\n",
              "      border: none;\n",
              "      border-radius: 50%;\n",
              "      cursor: pointer;\n",
              "      display: none;\n",
              "      fill: #1967D2;\n",
              "      height: 32px;\n",
              "      padding: 0 0 0 0;\n",
              "      width: 32px;\n",
              "    }\n",
              "\n",
              "    .colab-df-convert:hover {\n",
              "      background-color: #E2EBFA;\n",
              "      box-shadow: 0px 1px 2px rgba(60, 64, 67, 0.3), 0px 1px 3px 1px rgba(60, 64, 67, 0.15);\n",
              "      fill: #174EA6;\n",
              "    }\n",
              "\n",
              "    [theme=dark] .colab-df-convert {\n",
              "      background-color: #3B4455;\n",
              "      fill: #D2E3FC;\n",
              "    }\n",
              "\n",
              "    [theme=dark] .colab-df-convert:hover {\n",
              "      background-color: #434B5C;\n",
              "      box-shadow: 0px 1px 3px 1px rgba(0, 0, 0, 0.15);\n",
              "      filter: drop-shadow(0px 1px 2px rgba(0, 0, 0, 0.3));\n",
              "      fill: #FFFFFF;\n",
              "    }\n",
              "  </style>\n",
              "\n",
              "      <script>\n",
              "        const buttonEl =\n",
              "          document.querySelector('#df-375b6fc3-b7d9-4ec2-a7b9-1ccd018f618d button.colab-df-convert');\n",
              "        buttonEl.style.display =\n",
              "          google.colab.kernel.accessAllowed ? 'block' : 'none';\n",
              "\n",
              "        async function convertToInteractive(key) {\n",
              "          const element = document.querySelector('#df-375b6fc3-b7d9-4ec2-a7b9-1ccd018f618d');\n",
              "          const dataTable =\n",
              "            await google.colab.kernel.invokeFunction('convertToInteractive',\n",
              "                                                     [key], {});\n",
              "          if (!dataTable) return;\n",
              "\n",
              "          const docLinkHtml = 'Like what you see? Visit the ' +\n",
              "            '<a target=\"_blank\" href=https://colab.research.google.com/notebooks/data_table.ipynb>data table notebook</a>'\n",
              "            + ' to learn more about interactive tables.';\n",
              "          element.innerHTML = '';\n",
              "          dataTable['output_type'] = 'display_data';\n",
              "          await google.colab.output.renderOutput(dataTable, element);\n",
              "          const docLink = document.createElement('div');\n",
              "          docLink.innerHTML = docLinkHtml;\n",
              "          element.appendChild(docLink);\n",
              "        }\n",
              "      </script>\n",
              "    </div>\n",
              "  </div>\n",
              "  "
            ]
          },
          "metadata": {},
          "execution_count": 106
        }
      ]
    },
    {
      "cell_type": "code",
      "source": [
        "#Dataset Shape\n",
        "data.shape"
      ],
      "metadata": {
        "colab": {
          "base_uri": "https://localhost:8080/"
        },
        "id": "r2RG0S-pUi-T",
        "outputId": "7dccc92f-fc50-437d-d628-4675903e6db4"
      },
      "execution_count": null,
      "outputs": [
        {
          "output_type": "execute_result",
          "data": {
            "text/plain": [
              "(1460, 77)"
            ]
          },
          "metadata": {},
          "execution_count": 107
        }
      ]
    },
    {
      "cell_type": "code",
      "source": [
        "#Dataset length\n",
        "len(data)"
      ],
      "metadata": {
        "colab": {
          "base_uri": "https://localhost:8080/"
        },
        "id": "maAgdho0WchR",
        "outputId": "833f161e-c6ba-47da-a3ac-0ed44a69382f"
      },
      "execution_count": null,
      "outputs": [
        {
          "output_type": "execute_result",
          "data": {
            "text/plain": [
              "1460"
            ]
          },
          "metadata": {},
          "execution_count": 8
        }
      ]
    },
    {
      "cell_type": "code",
      "source": [
        "#The id column isn't required in the computation hence we drop it\n",
        "data.drop('Id',inplace=True,axis=1)"
      ],
      "metadata": {
        "id": "VTGpmKEnWcK3"
      },
      "execution_count": null,
      "outputs": []
    },
    {
      "cell_type": "code",
      "source": [
        "#Original features \n",
        "crude_features=list(data.columns)\n",
        "crude_features"
      ],
      "metadata": {
        "id": "S-39IdX5Wcbn"
      },
      "execution_count": null,
      "outputs": []
    },
    {
      "cell_type": "code",
      "source": [
        "#Identify columns(features) missing values \n",
        "#isna() returns true if a specific tuple is NA(missing value). \n",
        "#isna().any() returns true if there is any tuple with a missing value (NA) in a certain column \n",
        "features_missing_values=list(data.columns[data.isna().any()])\n",
        "features_missing_values"
      ],
      "metadata": {
        "colab": {
          "base_uri": "https://localhost:8080/"
        },
        "id": "RtnCnG48Wcd3",
        "outputId": "e39e393c-88d8-4e55-a913-5dcbff534aff"
      },
      "execution_count": null,
      "outputs": [
        {
          "output_type": "execute_result",
          "data": {
            "text/plain": [
              "['LotFrontage',\n",
              " 'MasVnrType',\n",
              " 'MasVnrArea',\n",
              " 'BsmtQual',\n",
              " 'BsmtCond',\n",
              " 'BsmtExposure',\n",
              " 'BsmtFinType1',\n",
              " 'BsmtFinType2',\n",
              " 'Electrical',\n",
              " 'FireplaceQu',\n",
              " 'GarageType',\n",
              " 'GarageYrBlt',\n",
              " 'GarageFinish',\n",
              " 'GarageQual',\n",
              " 'GarageCond']"
            ]
          },
          "metadata": {},
          "execution_count": 109
        }
      ]
    },
    {
      "cell_type": "markdown",
      "source": [
        "# **Filling in Missing Features**"
      ],
      "metadata": {
        "id": "dJ1IxKL7Zj7Y"
      }
    },
    {
      "cell_type": "code",
      "metadata": {
        "id": "kCE41DuSKmWp"
      },
      "source": [
        "#Declare and initialize lists that will hold the classified missing features based on their data type\n",
        "#bfill holds features_missing_values that have strings(objects) data type\n",
        "#mean_fill holds features_missing_values that have float data type\n",
        "bfill,mean_fill=[],[]"
      ],
      "execution_count": null,
      "outputs": []
    },
    {
      "cell_type": "code",
      "metadata": {
        "id": "zT0VmWr2H8_7",
        "colab": {
          "base_uri": "https://localhost:8080/"
        },
        "outputId": "f9afb972-0bc6-4aaa-f51e-8247f363d7f7"
      },
      "source": [
        "#Using loop to separate and populate features_missing_values based on their data types \n",
        "for feature in features_missing_values:\n",
        "  #Displaying features data types and missed value percentage for debugging purposed\n",
        "  print(feature,' ',data[feature].isna().sum()/len(data)*100,'% ',data[feature].dtype)\n",
        "  #categorizing the features_missing_values based on their data types\n",
        "  if data[feature].dtype=='float64':\n",
        "    mean_fill.append(feature)\n",
        "  else:\n",
        "    bfill.append(feature)"
      ],
      "execution_count": null,
      "outputs": [
        {
          "output_type": "stream",
          "name": "stdout",
          "text": [
            "LotFrontage   17.73972602739726 %  float64\n",
            "MasVnrType   0.547945205479452 %  object\n",
            "MasVnrArea   0.547945205479452 %  float64\n",
            "BsmtQual   2.5342465753424657 %  object\n",
            "BsmtCond   2.5342465753424657 %  object\n",
            "BsmtExposure   2.6027397260273974 %  object\n",
            "BsmtFinType1   2.5342465753424657 %  object\n",
            "BsmtFinType2   2.6027397260273974 %  object\n",
            "Electrical   0.0684931506849315 %  object\n",
            "FireplaceQu   47.26027397260274 %  object\n",
            "GarageType   5.5479452054794525 %  object\n",
            "GarageYrBlt   5.5479452054794525 %  float64\n",
            "GarageFinish   5.5479452054794525 %  object\n",
            "GarageQual   5.5479452054794525 %  object\n",
            "GarageCond   5.5479452054794525 %  object\n"
          ]
        }
      ]
    },
    {
      "cell_type": "code",
      "metadata": {
        "id": "y25NfqmoJ6RI",
        "colab": {
          "base_uri": "https://localhost:8080/"
        },
        "outputId": "6ff10162-d792-45ba-8a04-6031c963c706"
      },
      "source": [
        "mean_fill"
      ],
      "execution_count": null,
      "outputs": [
        {
          "output_type": "execute_result",
          "data": {
            "text/plain": [
              "['LotFrontage', 'MasVnrArea', 'GarageYrBlt']"
            ]
          },
          "metadata": {},
          "execution_count": 63
        }
      ]
    },
    {
      "cell_type": "code",
      "source": [
        "bfill"
      ],
      "metadata": {
        "id": "1jiUGEHtAmHT",
        "outputId": "0c7b7be5-d171-4849-aa02-ec634774847a",
        "colab": {
          "base_uri": "https://localhost:8080/"
        }
      },
      "execution_count": null,
      "outputs": [
        {
          "output_type": "execute_result",
          "data": {
            "text/plain": [
              "['MasVnrType',\n",
              " 'BsmtQual',\n",
              " 'BsmtCond',\n",
              " 'BsmtExposure',\n",
              " 'BsmtFinType1',\n",
              " 'BsmtFinType2',\n",
              " 'Electrical',\n",
              " 'FireplaceQu',\n",
              " 'GarageType',\n",
              " 'GarageFinish',\n",
              " 'GarageQual',\n",
              " 'GarageCond']"
            ]
          },
          "metadata": {},
          "execution_count": 54
        }
      ]
    },
    {
      "cell_type": "code",
      "metadata": {
        "id": "KQW9dCMmKxee"
      },
      "source": [
        "#Populating features that have float data types\n",
        "#mean() calculates the mean of the values in the a specific feature\n",
        "#fillna() fills a tuple with a missing value(NA) by the parameter passed \n",
        "for feature in mean_fill:\n",
        "  data[feature].fillna(data[feature].mean(),inplace=True)"
      ],
      "execution_count": null,
      "outputs": []
    },
    {
      "cell_type": "code",
      "metadata": {
        "id": "9Sx6f2HNK_5v"
      },
      "source": [
        "#Populating features that have object(String) data types\n",
        "#method bfill used to indicate backward filling of data \n",
        "#fillna() fills a tuple with a missing value(NA) by the parameter passed \n",
        "for feature in bfill:\n",
        "  data[feature].fillna(method='bfill',inplace=True)"
      ],
      "execution_count": null,
      "outputs": []
    },
    {
      "cell_type": "code",
      "metadata": {
        "colab": {
          "base_uri": "https://localhost:8080/"
        },
        "id": "EGLomTfrLJ5w",
        "outputId": "86c7bd8f-771d-432d-9559-8d4f7a176700"
      },
      "source": [
        "#Recheck if there is any missing value left\n",
        "data.columns[data.isna().any()]"
      ],
      "execution_count": null,
      "outputs": [
        {
          "output_type": "execute_result",
          "data": {
            "text/plain": [
              "Index([], dtype='object')"
            ]
          },
          "metadata": {},
          "execution_count": 66
        }
      ]
    },
    {
      "cell_type": "code",
      "metadata": {
        "colab": {
          "base_uri": "https://localhost:8080/"
        },
        "id": "HZ1QKcdeLTm5",
        "outputId": "08056b9e-e3e1-4fc1-8683-56ac09e05de4"
      },
      "source": [
        "#calculate the total number of tuples missing values in the hand picked feature\n",
        "data['FireplaceQu'].isna().sum()"
      ],
      "execution_count": null,
      "outputs": [
        {
          "output_type": "execute_result",
          "data": {
            "text/plain": [
              "0"
            ]
          },
          "metadata": {},
          "execution_count": 67
        }
      ]
    },
    {
      "cell_type": "code",
      "metadata": {
        "id": "Yho-jIdzLcRB"
      },
      "source": [
        "#populate the feature missing values\n",
        "#This time we use method ffill\n",
        "#It specifies forward filling mechanism\n",
        "data['FireplaceQu'].fillna(method='ffill',inplace=True)"
      ],
      "execution_count": null,
      "outputs": []
    },
    {
      "cell_type": "markdown",
      "metadata": {
        "id": "jyzvz4xEPhjO"
      },
      "source": [
        "# ***Encoding the Dataset***"
      ]
    },
    {
      "cell_type": "code",
      "metadata": {
        "id": "4qWT-1D_L2V3",
        "colab": {
          "base_uri": "https://localhost:8080/"
        },
        "outputId": "4ba61162-678c-4e43-d524-a93c463285d1"
      },
      "source": [
        "#pick categorical features from the dataset using select_dtypes()\n",
        "#convert the returned data to list for computation purposes\n",
        "#categorical features have a data type of object in python  \n",
        "categorical_features=list(data.select_dtypes(include=['object']).columns)\n",
        "categorical_features"
      ],
      "execution_count": null,
      "outputs": [
        {
          "output_type": "execute_result",
          "data": {
            "text/plain": [
              "['MSZoning', 'LandContour', 'Neighborhood']"
            ]
          },
          "metadata": {},
          "execution_count": 69
        }
      ]
    },
    {
      "cell_type": "code",
      "metadata": {
        "id": "EsT2Y4Z0M71C"
      },
      "source": [
        "#pick numerical features from the dataset by taking the set difference between the crude features and the categorical features\n",
        "#convert the returned data to list for computation purposes\n",
        "#numerical features have a data type of float in python\n",
        "numerical=list(set(crude_features)-set(categorical_features))\n",
        "numerical\n"
      ],
      "execution_count": null,
      "outputs": []
    },
    {
      "cell_type": "code",
      "metadata": {
        "id": "UDKIiKVANTnd",
        "colab": {
          "base_uri": "https://localhost:8080/"
        },
        "outputId": "e176d2eb-bf83-4ac9-dd94-77637b3bd98d"
      },
      "source": [
        "#Let's take a moment to look at the categorical features\n",
        "categorical_features"
      ],
      "execution_count": null,
      "outputs": [
        {
          "output_type": "execute_result",
          "data": {
            "text/plain": [
              "['MSZoning', 'LandContour', 'Neighborhood']"
            ]
          },
          "metadata": {},
          "execution_count": 71
        }
      ]
    },
    {
      "cell_type": "code",
      "metadata": {
        "id": "kM-GRn7aMvyv"
      },
      "source": [
        "#Categorical features can be classified into two categories: Nominal and Ordinal features\n",
        "#Nominal data: Categorical data with no natural order among the data\n",
        "#Ordinal data: Categorical data with natural order among the data\n",
        "#Based on the data description provided, the nominal features are hand-picked \n",
        "#we get the ordinal features by calculating the set difference between the overall categorical features and the nominal features \n",
        "nominal=['MSZoning','LandContour','Neighborhood']\n",
        "ordinal=list(set(categorical_features)-set(nominal))"
      ],
      "execution_count": null,
      "outputs": []
    },
    {
      "cell_type": "code",
      "source": [
        "#Let's take a moment to look at the whole ordinal data we have\n",
        "data[ordinal]\n"
      ],
      "metadata": {
        "id": "A7t83ixISclD"
      },
      "execution_count": null,
      "outputs": []
    },
    {
      "cell_type": "code",
      "source": [
        "#Let's take a moment to look at the whole nominal data we have\n",
        "data[nominal]\n"
      ],
      "metadata": {
        "id": "AoAZOuFqoISm"
      },
      "execution_count": null,
      "outputs": []
    },
    {
      "cell_type": "code",
      "metadata": {
        "id": "b2TUXbefNp0c"
      },
      "source": [
        "#Let's not forget our target feature -_-\n",
        "target=['SalePrice']"
      ],
      "execution_count": null,
      "outputs": []
    },
    {
      "cell_type": "code",
      "metadata": {
        "id": "yFohCKevNuqT"
      },
      "source": [
        "#For the sake of performing computation we convert categorical data to numerical data using get_dummies()\n",
        "#get_dummies() converts categorical variable into dummy/indicator variables.\n",
        "#get_dummies() workes for datasets that have object data types\n",
        "#Let's change our nominal features to numerical values \n",
        "df_nominal=pd.get_dummies(data[nominal])\n",
        "df_nominal.head(3)"
      ],
      "execution_count": null,
      "outputs": []
    },
    {
      "cell_type": "code",
      "metadata": {
        "id": "L7Hr2qrKOCsF"
      },
      "source": [
        "#For the sake of performing computation we convert categorical data to numerical data cat.codes\n",
        "#cat.codes converts categorical variable into dummy/indicator variables.\n",
        "#cat.codes workes for categorical data\n",
        "#Let's change our ordinal features to numerical values \n",
        "for feature in ordinal:\n",
        "  data[feature]=data[feature].astype('category').cat.codes\n",
        "\n",
        "df_ordinal=data[ordinal]"
      ],
      "execution_count": null,
      "outputs": []
    },
    {
      "cell_type": "code",
      "source": [
        "#converted ordinal data\n",
        "df_ordinal"
      ],
      "metadata": {
        "id": "ERP_gj-UAMHR"
      },
      "execution_count": null,
      "outputs": []
    },
    {
      "cell_type": "code",
      "metadata": {
        "id": "rIB43vbzOlRa"
      },
      "source": [
        "#our numerical data\n",
        "data[numerical]"
      ],
      "execution_count": null,
      "outputs": []
    },
    {
      "cell_type": "code",
      "metadata": {
        "id": "4qJ-B4HhO4rK"
      },
      "source": [
        "#Finally, we combine our nominal, ordinal and numerical data to create a well encoded dataset\n",
        "new_data=pd.concat([df_nominal,df_ordinal,data[numerical]],axis=1)"
      ],
      "execution_count": null,
      "outputs": []
    },
    {
      "cell_type": "code",
      "metadata": {
        "id": "Dxn5cPYqPEtL",
        "colab": {
          "base_uri": "https://localhost:8080/"
        },
        "outputId": "bd70dff0-ee90-45df-9bd4-5d764a342edb"
      },
      "source": [
        "#Check if the shape of our dataset has remained intact \n",
        "new_data.shape"
      ],
      "execution_count": null,
      "outputs": [
        {
          "output_type": "execute_result",
          "data": {
            "text/plain": [
              "(1460, 107)"
            ]
          },
          "metadata": {},
          "execution_count": 81
        }
      ]
    },
    {
      "cell_type": "code",
      "metadata": {
        "id": "ynBgewRYPIzj",
        "colab": {
          "base_uri": "https://localhost:8080/",
          "height": 505
        },
        "outputId": "4001bc37-d036-452f-ec4d-731bab2bbc19"
      },
      "source": [
        "#our beautiful, well encoded dataset\n",
        "new_data"
      ],
      "execution_count": null,
      "outputs": [
        {
          "output_type": "execute_result",
          "data": {
            "text/plain": [
              "      MSZoning_C (all)  MSZoning_FV  MSZoning_RH  MSZoning_RL  MSZoning_RM  \\\n",
              "0                    0            0            0            1            0   \n",
              "1                    0            0            0            1            0   \n",
              "2                    0            0            0            1            0   \n",
              "3                    0            0            0            1            0   \n",
              "4                    0            0            0            1            0   \n",
              "...                ...          ...          ...          ...          ...   \n",
              "1455                 0            0            0            1            0   \n",
              "1456                 0            0            0            1            0   \n",
              "1457                 0            0            0            1            0   \n",
              "1458                 0            0            0            1            0   \n",
              "1459                 0            0            0            1            0   \n",
              "\n",
              "      LandContour_Bnk  LandContour_HLS  LandContour_Low  LandContour_Lvl  \\\n",
              "0                   0                0                0                1   \n",
              "1                   0                0                0                1   \n",
              "2                   0                0                0                1   \n",
              "3                   0                0                0                1   \n",
              "4                   0                0                0                1   \n",
              "...               ...              ...              ...              ...   \n",
              "1455                0                0                0                1   \n",
              "1456                0                0                0                1   \n",
              "1457                0                0                0                1   \n",
              "1458                0                0                0                1   \n",
              "1459                0                0                0                1   \n",
              "\n",
              "      Neighborhood_Blmngtn  ...  Electrical  OpenPorchSF  LotShape  \\\n",
              "0                        0  ...           4           61         3   \n",
              "1                        0  ...           4            0         3   \n",
              "2                        0  ...           4           42         0   \n",
              "3                        0  ...           4           35         0   \n",
              "4                        0  ...           4           84         0   \n",
              "...                    ...  ...         ...          ...       ...   \n",
              "1455                     0  ...           4           40         3   \n",
              "1456                     0  ...           4            0         3   \n",
              "1457                     0  ...           4           60         3   \n",
              "1458                     0  ...           0            0         3   \n",
              "1459                     0  ...           4           68         3   \n",
              "\n",
              "      GarageArea  FireplaceQu  MasVnrArea  MoSold  Condition1  YrSold  \\\n",
              "0            548            4       196.0       2           2    2008   \n",
              "1            460            4         0.0       5           1    2007   \n",
              "2            608            4       162.0       9           2    2008   \n",
              "3            642            2         0.0       2           2    2006   \n",
              "4            836            4       350.0      12           2    2008   \n",
              "...          ...          ...         ...     ...         ...     ...   \n",
              "1455         460            4         0.0       8           2    2007   \n",
              "1456         500            4       119.0       2           2    2010   \n",
              "1457         252            2         0.0       5           2    2010   \n",
              "1458         240            2         0.0       4           2    2010   \n",
              "1459         276            2         0.0       6           2    2008   \n",
              "\n",
              "      TotalBsmtSF  \n",
              "0             856  \n",
              "1            1262  \n",
              "2             920  \n",
              "3             756  \n",
              "4            1145  \n",
              "...           ...  \n",
              "1455          953  \n",
              "1456         1542  \n",
              "1457         1152  \n",
              "1458         1078  \n",
              "1459         1256  \n",
              "\n",
              "[1460 rows x 107 columns]"
            ],
            "text/html": [
              "\n",
              "  <div id=\"df-baa7321d-b81f-4c4f-b5c0-3cf626065afc\">\n",
              "    <div class=\"colab-df-container\">\n",
              "      <div>\n",
              "<style scoped>\n",
              "    .dataframe tbody tr th:only-of-type {\n",
              "        vertical-align: middle;\n",
              "    }\n",
              "\n",
              "    .dataframe tbody tr th {\n",
              "        vertical-align: top;\n",
              "    }\n",
              "\n",
              "    .dataframe thead th {\n",
              "        text-align: right;\n",
              "    }\n",
              "</style>\n",
              "<table border=\"1\" class=\"dataframe\">\n",
              "  <thead>\n",
              "    <tr style=\"text-align: right;\">\n",
              "      <th></th>\n",
              "      <th>MSZoning_C (all)</th>\n",
              "      <th>MSZoning_FV</th>\n",
              "      <th>MSZoning_RH</th>\n",
              "      <th>MSZoning_RL</th>\n",
              "      <th>MSZoning_RM</th>\n",
              "      <th>LandContour_Bnk</th>\n",
              "      <th>LandContour_HLS</th>\n",
              "      <th>LandContour_Low</th>\n",
              "      <th>LandContour_Lvl</th>\n",
              "      <th>Neighborhood_Blmngtn</th>\n",
              "      <th>...</th>\n",
              "      <th>Electrical</th>\n",
              "      <th>OpenPorchSF</th>\n",
              "      <th>LotShape</th>\n",
              "      <th>GarageArea</th>\n",
              "      <th>FireplaceQu</th>\n",
              "      <th>MasVnrArea</th>\n",
              "      <th>MoSold</th>\n",
              "      <th>Condition1</th>\n",
              "      <th>YrSold</th>\n",
              "      <th>TotalBsmtSF</th>\n",
              "    </tr>\n",
              "  </thead>\n",
              "  <tbody>\n",
              "    <tr>\n",
              "      <th>0</th>\n",
              "      <td>0</td>\n",
              "      <td>0</td>\n",
              "      <td>0</td>\n",
              "      <td>1</td>\n",
              "      <td>0</td>\n",
              "      <td>0</td>\n",
              "      <td>0</td>\n",
              "      <td>0</td>\n",
              "      <td>1</td>\n",
              "      <td>0</td>\n",
              "      <td>...</td>\n",
              "      <td>4</td>\n",
              "      <td>61</td>\n",
              "      <td>3</td>\n",
              "      <td>548</td>\n",
              "      <td>4</td>\n",
              "      <td>196.0</td>\n",
              "      <td>2</td>\n",
              "      <td>2</td>\n",
              "      <td>2008</td>\n",
              "      <td>856</td>\n",
              "    </tr>\n",
              "    <tr>\n",
              "      <th>1</th>\n",
              "      <td>0</td>\n",
              "      <td>0</td>\n",
              "      <td>0</td>\n",
              "      <td>1</td>\n",
              "      <td>0</td>\n",
              "      <td>0</td>\n",
              "      <td>0</td>\n",
              "      <td>0</td>\n",
              "      <td>1</td>\n",
              "      <td>0</td>\n",
              "      <td>...</td>\n",
              "      <td>4</td>\n",
              "      <td>0</td>\n",
              "      <td>3</td>\n",
              "      <td>460</td>\n",
              "      <td>4</td>\n",
              "      <td>0.0</td>\n",
              "      <td>5</td>\n",
              "      <td>1</td>\n",
              "      <td>2007</td>\n",
              "      <td>1262</td>\n",
              "    </tr>\n",
              "    <tr>\n",
              "      <th>2</th>\n",
              "      <td>0</td>\n",
              "      <td>0</td>\n",
              "      <td>0</td>\n",
              "      <td>1</td>\n",
              "      <td>0</td>\n",
              "      <td>0</td>\n",
              "      <td>0</td>\n",
              "      <td>0</td>\n",
              "      <td>1</td>\n",
              "      <td>0</td>\n",
              "      <td>...</td>\n",
              "      <td>4</td>\n",
              "      <td>42</td>\n",
              "      <td>0</td>\n",
              "      <td>608</td>\n",
              "      <td>4</td>\n",
              "      <td>162.0</td>\n",
              "      <td>9</td>\n",
              "      <td>2</td>\n",
              "      <td>2008</td>\n",
              "      <td>920</td>\n",
              "    </tr>\n",
              "    <tr>\n",
              "      <th>3</th>\n",
              "      <td>0</td>\n",
              "      <td>0</td>\n",
              "      <td>0</td>\n",
              "      <td>1</td>\n",
              "      <td>0</td>\n",
              "      <td>0</td>\n",
              "      <td>0</td>\n",
              "      <td>0</td>\n",
              "      <td>1</td>\n",
              "      <td>0</td>\n",
              "      <td>...</td>\n",
              "      <td>4</td>\n",
              "      <td>35</td>\n",
              "      <td>0</td>\n",
              "      <td>642</td>\n",
              "      <td>2</td>\n",
              "      <td>0.0</td>\n",
              "      <td>2</td>\n",
              "      <td>2</td>\n",
              "      <td>2006</td>\n",
              "      <td>756</td>\n",
              "    </tr>\n",
              "    <tr>\n",
              "      <th>4</th>\n",
              "      <td>0</td>\n",
              "      <td>0</td>\n",
              "      <td>0</td>\n",
              "      <td>1</td>\n",
              "      <td>0</td>\n",
              "      <td>0</td>\n",
              "      <td>0</td>\n",
              "      <td>0</td>\n",
              "      <td>1</td>\n",
              "      <td>0</td>\n",
              "      <td>...</td>\n",
              "      <td>4</td>\n",
              "      <td>84</td>\n",
              "      <td>0</td>\n",
              "      <td>836</td>\n",
              "      <td>4</td>\n",
              "      <td>350.0</td>\n",
              "      <td>12</td>\n",
              "      <td>2</td>\n",
              "      <td>2008</td>\n",
              "      <td>1145</td>\n",
              "    </tr>\n",
              "    <tr>\n",
              "      <th>...</th>\n",
              "      <td>...</td>\n",
              "      <td>...</td>\n",
              "      <td>...</td>\n",
              "      <td>...</td>\n",
              "      <td>...</td>\n",
              "      <td>...</td>\n",
              "      <td>...</td>\n",
              "      <td>...</td>\n",
              "      <td>...</td>\n",
              "      <td>...</td>\n",
              "      <td>...</td>\n",
              "      <td>...</td>\n",
              "      <td>...</td>\n",
              "      <td>...</td>\n",
              "      <td>...</td>\n",
              "      <td>...</td>\n",
              "      <td>...</td>\n",
              "      <td>...</td>\n",
              "      <td>...</td>\n",
              "      <td>...</td>\n",
              "      <td>...</td>\n",
              "    </tr>\n",
              "    <tr>\n",
              "      <th>1455</th>\n",
              "      <td>0</td>\n",
              "      <td>0</td>\n",
              "      <td>0</td>\n",
              "      <td>1</td>\n",
              "      <td>0</td>\n",
              "      <td>0</td>\n",
              "      <td>0</td>\n",
              "      <td>0</td>\n",
              "      <td>1</td>\n",
              "      <td>0</td>\n",
              "      <td>...</td>\n",
              "      <td>4</td>\n",
              "      <td>40</td>\n",
              "      <td>3</td>\n",
              "      <td>460</td>\n",
              "      <td>4</td>\n",
              "      <td>0.0</td>\n",
              "      <td>8</td>\n",
              "      <td>2</td>\n",
              "      <td>2007</td>\n",
              "      <td>953</td>\n",
              "    </tr>\n",
              "    <tr>\n",
              "      <th>1456</th>\n",
              "      <td>0</td>\n",
              "      <td>0</td>\n",
              "      <td>0</td>\n",
              "      <td>1</td>\n",
              "      <td>0</td>\n",
              "      <td>0</td>\n",
              "      <td>0</td>\n",
              "      <td>0</td>\n",
              "      <td>1</td>\n",
              "      <td>0</td>\n",
              "      <td>...</td>\n",
              "      <td>4</td>\n",
              "      <td>0</td>\n",
              "      <td>3</td>\n",
              "      <td>500</td>\n",
              "      <td>4</td>\n",
              "      <td>119.0</td>\n",
              "      <td>2</td>\n",
              "      <td>2</td>\n",
              "      <td>2010</td>\n",
              "      <td>1542</td>\n",
              "    </tr>\n",
              "    <tr>\n",
              "      <th>1457</th>\n",
              "      <td>0</td>\n",
              "      <td>0</td>\n",
              "      <td>0</td>\n",
              "      <td>1</td>\n",
              "      <td>0</td>\n",
              "      <td>0</td>\n",
              "      <td>0</td>\n",
              "      <td>0</td>\n",
              "      <td>1</td>\n",
              "      <td>0</td>\n",
              "      <td>...</td>\n",
              "      <td>4</td>\n",
              "      <td>60</td>\n",
              "      <td>3</td>\n",
              "      <td>252</td>\n",
              "      <td>2</td>\n",
              "      <td>0.0</td>\n",
              "      <td>5</td>\n",
              "      <td>2</td>\n",
              "      <td>2010</td>\n",
              "      <td>1152</td>\n",
              "    </tr>\n",
              "    <tr>\n",
              "      <th>1458</th>\n",
              "      <td>0</td>\n",
              "      <td>0</td>\n",
              "      <td>0</td>\n",
              "      <td>1</td>\n",
              "      <td>0</td>\n",
              "      <td>0</td>\n",
              "      <td>0</td>\n",
              "      <td>0</td>\n",
              "      <td>1</td>\n",
              "      <td>0</td>\n",
              "      <td>...</td>\n",
              "      <td>0</td>\n",
              "      <td>0</td>\n",
              "      <td>3</td>\n",
              "      <td>240</td>\n",
              "      <td>2</td>\n",
              "      <td>0.0</td>\n",
              "      <td>4</td>\n",
              "      <td>2</td>\n",
              "      <td>2010</td>\n",
              "      <td>1078</td>\n",
              "    </tr>\n",
              "    <tr>\n",
              "      <th>1459</th>\n",
              "      <td>0</td>\n",
              "      <td>0</td>\n",
              "      <td>0</td>\n",
              "      <td>1</td>\n",
              "      <td>0</td>\n",
              "      <td>0</td>\n",
              "      <td>0</td>\n",
              "      <td>0</td>\n",
              "      <td>1</td>\n",
              "      <td>0</td>\n",
              "      <td>...</td>\n",
              "      <td>4</td>\n",
              "      <td>68</td>\n",
              "      <td>3</td>\n",
              "      <td>276</td>\n",
              "      <td>2</td>\n",
              "      <td>0.0</td>\n",
              "      <td>6</td>\n",
              "      <td>2</td>\n",
              "      <td>2008</td>\n",
              "      <td>1256</td>\n",
              "    </tr>\n",
              "  </tbody>\n",
              "</table>\n",
              "<p>1460 rows × 107 columns</p>\n",
              "</div>\n",
              "      <button class=\"colab-df-convert\" onclick=\"convertToInteractive('df-baa7321d-b81f-4c4f-b5c0-3cf626065afc')\"\n",
              "              title=\"Convert this dataframe to an interactive table.\"\n",
              "              style=\"display:none;\">\n",
              "        \n",
              "  <svg xmlns=\"http://www.w3.org/2000/svg\" height=\"24px\"viewBox=\"0 0 24 24\"\n",
              "       width=\"24px\">\n",
              "    <path d=\"M0 0h24v24H0V0z\" fill=\"none\"/>\n",
              "    <path d=\"M18.56 5.44l.94 2.06.94-2.06 2.06-.94-2.06-.94-.94-2.06-.94 2.06-2.06.94zm-11 1L8.5 8.5l.94-2.06 2.06-.94-2.06-.94L8.5 2.5l-.94 2.06-2.06.94zm10 10l.94 2.06.94-2.06 2.06-.94-2.06-.94-.94-2.06-.94 2.06-2.06.94z\"/><path d=\"M17.41 7.96l-1.37-1.37c-.4-.4-.92-.59-1.43-.59-.52 0-1.04.2-1.43.59L10.3 9.45l-7.72 7.72c-.78.78-.78 2.05 0 2.83L4 21.41c.39.39.9.59 1.41.59.51 0 1.02-.2 1.41-.59l7.78-7.78 2.81-2.81c.8-.78.8-2.07 0-2.86zM5.41 20L4 18.59l7.72-7.72 1.47 1.35L5.41 20z\"/>\n",
              "  </svg>\n",
              "      </button>\n",
              "      \n",
              "  <style>\n",
              "    .colab-df-container {\n",
              "      display:flex;\n",
              "      flex-wrap:wrap;\n",
              "      gap: 12px;\n",
              "    }\n",
              "\n",
              "    .colab-df-convert {\n",
              "      background-color: #E8F0FE;\n",
              "      border: none;\n",
              "      border-radius: 50%;\n",
              "      cursor: pointer;\n",
              "      display: none;\n",
              "      fill: #1967D2;\n",
              "      height: 32px;\n",
              "      padding: 0 0 0 0;\n",
              "      width: 32px;\n",
              "    }\n",
              "\n",
              "    .colab-df-convert:hover {\n",
              "      background-color: #E2EBFA;\n",
              "      box-shadow: 0px 1px 2px rgba(60, 64, 67, 0.3), 0px 1px 3px 1px rgba(60, 64, 67, 0.15);\n",
              "      fill: #174EA6;\n",
              "    }\n",
              "\n",
              "    [theme=dark] .colab-df-convert {\n",
              "      background-color: #3B4455;\n",
              "      fill: #D2E3FC;\n",
              "    }\n",
              "\n",
              "    [theme=dark] .colab-df-convert:hover {\n",
              "      background-color: #434B5C;\n",
              "      box-shadow: 0px 1px 3px 1px rgba(0, 0, 0, 0.15);\n",
              "      filter: drop-shadow(0px 1px 2px rgba(0, 0, 0, 0.3));\n",
              "      fill: #FFFFFF;\n",
              "    }\n",
              "  </style>\n",
              "\n",
              "      <script>\n",
              "        const buttonEl =\n",
              "          document.querySelector('#df-baa7321d-b81f-4c4f-b5c0-3cf626065afc button.colab-df-convert');\n",
              "        buttonEl.style.display =\n",
              "          google.colab.kernel.accessAllowed ? 'block' : 'none';\n",
              "\n",
              "        async function convertToInteractive(key) {\n",
              "          const element = document.querySelector('#df-baa7321d-b81f-4c4f-b5c0-3cf626065afc');\n",
              "          const dataTable =\n",
              "            await google.colab.kernel.invokeFunction('convertToInteractive',\n",
              "                                                     [key], {});\n",
              "          if (!dataTable) return;\n",
              "\n",
              "          const docLinkHtml = 'Like what you see? Visit the ' +\n",
              "            '<a target=\"_blank\" href=https://colab.research.google.com/notebooks/data_table.ipynb>data table notebook</a>'\n",
              "            + ' to learn more about interactive tables.';\n",
              "          element.innerHTML = '';\n",
              "          dataTable['output_type'] = 'display_data';\n",
              "          await google.colab.output.renderOutput(dataTable, element);\n",
              "          const docLink = document.createElement('div');\n",
              "          docLink.innerHTML = docLinkHtml;\n",
              "          element.appendChild(docLink);\n",
              "        }\n",
              "      </script>\n",
              "    </div>\n",
              "  </div>\n",
              "  "
            ]
          },
          "metadata": {},
          "execution_count": 82
        }
      ]
    },
    {
      "cell_type": "markdown",
      "metadata": {
        "id": "bFgsoRFNPlXP"
      },
      "source": [
        "# **Standardizing the Dataset**"
      ]
    },
    {
      "cell_type": "code",
      "metadata": {
        "id": "RK7ZuqtsPp5z"
      },
      "source": [
        "#Drop the target feature\n",
        "new_data.drop('SalePrice',axis=1,inplace=True)"
      ],
      "execution_count": null,
      "outputs": []
    },
    {
      "cell_type": "code",
      "source": [
        "#Check the new dataset\n",
        "new_data"
      ],
      "metadata": {
        "id": "d6EEBerqXd6m",
        "colab": {
          "base_uri": "https://localhost:8080/",
          "height": 505
        },
        "outputId": "ab3d8061-9024-478b-be84-96543c46bb28"
      },
      "execution_count": null,
      "outputs": [
        {
          "output_type": "execute_result",
          "data": {
            "text/plain": [
              "      MSZoning_C (all)  MSZoning_FV  MSZoning_RH  MSZoning_RL  MSZoning_RM  \\\n",
              "0                    0            0            0            1            0   \n",
              "1                    0            0            0            1            0   \n",
              "2                    0            0            0            1            0   \n",
              "3                    0            0            0            1            0   \n",
              "4                    0            0            0            1            0   \n",
              "...                ...          ...          ...          ...          ...   \n",
              "1455                 0            0            0            1            0   \n",
              "1456                 0            0            0            1            0   \n",
              "1457                 0            0            0            1            0   \n",
              "1458                 0            0            0            1            0   \n",
              "1459                 0            0            0            1            0   \n",
              "\n",
              "      LandContour_Bnk  LandContour_HLS  LandContour_Low  LandContour_Lvl  \\\n",
              "0                   0                0                0                1   \n",
              "1                   0                0                0                1   \n",
              "2                   0                0                0                1   \n",
              "3                   0                0                0                1   \n",
              "4                   0                0                0                1   \n",
              "...               ...              ...              ...              ...   \n",
              "1455                0                0                0                1   \n",
              "1456                0                0                0                1   \n",
              "1457                0                0                0                1   \n",
              "1458                0                0                0                1   \n",
              "1459                0                0                0                1   \n",
              "\n",
              "      Neighborhood_Blmngtn  ...  BsmtFinSF2  GarageArea  YearBuilt  \\\n",
              "0                        0  ...           0         548       2003   \n",
              "1                        0  ...           0         460       1976   \n",
              "2                        0  ...           0         608       2001   \n",
              "3                        0  ...           0         642       1915   \n",
              "4                        0  ...           0         836       2000   \n",
              "...                    ...  ...         ...         ...        ...   \n",
              "1455                     0  ...           0         460       1999   \n",
              "1456                     0  ...         163         500       1978   \n",
              "1457                     0  ...           0         252       1941   \n",
              "1458                     0  ...        1029         240       1950   \n",
              "1459                     0  ...         290         276       1965   \n",
              "\n",
              "      MasVnrArea  FullBath  YearRemodAdd  MoSold  TotRmsAbvGrd  YrSold  \\\n",
              "0          196.0         2          2003       2             8    2008   \n",
              "1            0.0         2          1976       5             6    2007   \n",
              "2          162.0         2          2002       9             6    2008   \n",
              "3            0.0         1          1970       2             7    2006   \n",
              "4          350.0         2          2000      12             9    2008   \n",
              "...          ...       ...           ...     ...           ...     ...   \n",
              "1455         0.0         2          2000       8             7    2007   \n",
              "1456       119.0         2          1988       2             7    2010   \n",
              "1457         0.0         2          2006       5             9    2010   \n",
              "1458         0.0         1          1996       4             5    2010   \n",
              "1459         0.0         1          1965       6             6    2008   \n",
              "\n",
              "      TotalBsmtSF  \n",
              "0             856  \n",
              "1            1262  \n",
              "2             920  \n",
              "3             756  \n",
              "4            1145  \n",
              "...           ...  \n",
              "1455          953  \n",
              "1456         1542  \n",
              "1457         1152  \n",
              "1458         1078  \n",
              "1459         1256  \n",
              "\n",
              "[1460 rows x 106 columns]"
            ],
            "text/html": [
              "\n",
              "  <div id=\"df-b6cb8a92-f563-4bd0-b87a-d4c1a699925a\">\n",
              "    <div class=\"colab-df-container\">\n",
              "      <div>\n",
              "<style scoped>\n",
              "    .dataframe tbody tr th:only-of-type {\n",
              "        vertical-align: middle;\n",
              "    }\n",
              "\n",
              "    .dataframe tbody tr th {\n",
              "        vertical-align: top;\n",
              "    }\n",
              "\n",
              "    .dataframe thead th {\n",
              "        text-align: right;\n",
              "    }\n",
              "</style>\n",
              "<table border=\"1\" class=\"dataframe\">\n",
              "  <thead>\n",
              "    <tr style=\"text-align: right;\">\n",
              "      <th></th>\n",
              "      <th>MSZoning_C (all)</th>\n",
              "      <th>MSZoning_FV</th>\n",
              "      <th>MSZoning_RH</th>\n",
              "      <th>MSZoning_RL</th>\n",
              "      <th>MSZoning_RM</th>\n",
              "      <th>LandContour_Bnk</th>\n",
              "      <th>LandContour_HLS</th>\n",
              "      <th>LandContour_Low</th>\n",
              "      <th>LandContour_Lvl</th>\n",
              "      <th>Neighborhood_Blmngtn</th>\n",
              "      <th>...</th>\n",
              "      <th>BsmtFinSF2</th>\n",
              "      <th>GarageArea</th>\n",
              "      <th>YearBuilt</th>\n",
              "      <th>MasVnrArea</th>\n",
              "      <th>FullBath</th>\n",
              "      <th>YearRemodAdd</th>\n",
              "      <th>MoSold</th>\n",
              "      <th>TotRmsAbvGrd</th>\n",
              "      <th>YrSold</th>\n",
              "      <th>TotalBsmtSF</th>\n",
              "    </tr>\n",
              "  </thead>\n",
              "  <tbody>\n",
              "    <tr>\n",
              "      <th>0</th>\n",
              "      <td>0</td>\n",
              "      <td>0</td>\n",
              "      <td>0</td>\n",
              "      <td>1</td>\n",
              "      <td>0</td>\n",
              "      <td>0</td>\n",
              "      <td>0</td>\n",
              "      <td>0</td>\n",
              "      <td>1</td>\n",
              "      <td>0</td>\n",
              "      <td>...</td>\n",
              "      <td>0</td>\n",
              "      <td>548</td>\n",
              "      <td>2003</td>\n",
              "      <td>196.0</td>\n",
              "      <td>2</td>\n",
              "      <td>2003</td>\n",
              "      <td>2</td>\n",
              "      <td>8</td>\n",
              "      <td>2008</td>\n",
              "      <td>856</td>\n",
              "    </tr>\n",
              "    <tr>\n",
              "      <th>1</th>\n",
              "      <td>0</td>\n",
              "      <td>0</td>\n",
              "      <td>0</td>\n",
              "      <td>1</td>\n",
              "      <td>0</td>\n",
              "      <td>0</td>\n",
              "      <td>0</td>\n",
              "      <td>0</td>\n",
              "      <td>1</td>\n",
              "      <td>0</td>\n",
              "      <td>...</td>\n",
              "      <td>0</td>\n",
              "      <td>460</td>\n",
              "      <td>1976</td>\n",
              "      <td>0.0</td>\n",
              "      <td>2</td>\n",
              "      <td>1976</td>\n",
              "      <td>5</td>\n",
              "      <td>6</td>\n",
              "      <td>2007</td>\n",
              "      <td>1262</td>\n",
              "    </tr>\n",
              "    <tr>\n",
              "      <th>2</th>\n",
              "      <td>0</td>\n",
              "      <td>0</td>\n",
              "      <td>0</td>\n",
              "      <td>1</td>\n",
              "      <td>0</td>\n",
              "      <td>0</td>\n",
              "      <td>0</td>\n",
              "      <td>0</td>\n",
              "      <td>1</td>\n",
              "      <td>0</td>\n",
              "      <td>...</td>\n",
              "      <td>0</td>\n",
              "      <td>608</td>\n",
              "      <td>2001</td>\n",
              "      <td>162.0</td>\n",
              "      <td>2</td>\n",
              "      <td>2002</td>\n",
              "      <td>9</td>\n",
              "      <td>6</td>\n",
              "      <td>2008</td>\n",
              "      <td>920</td>\n",
              "    </tr>\n",
              "    <tr>\n",
              "      <th>3</th>\n",
              "      <td>0</td>\n",
              "      <td>0</td>\n",
              "      <td>0</td>\n",
              "      <td>1</td>\n",
              "      <td>0</td>\n",
              "      <td>0</td>\n",
              "      <td>0</td>\n",
              "      <td>0</td>\n",
              "      <td>1</td>\n",
              "      <td>0</td>\n",
              "      <td>...</td>\n",
              "      <td>0</td>\n",
              "      <td>642</td>\n",
              "      <td>1915</td>\n",
              "      <td>0.0</td>\n",
              "      <td>1</td>\n",
              "      <td>1970</td>\n",
              "      <td>2</td>\n",
              "      <td>7</td>\n",
              "      <td>2006</td>\n",
              "      <td>756</td>\n",
              "    </tr>\n",
              "    <tr>\n",
              "      <th>4</th>\n",
              "      <td>0</td>\n",
              "      <td>0</td>\n",
              "      <td>0</td>\n",
              "      <td>1</td>\n",
              "      <td>0</td>\n",
              "      <td>0</td>\n",
              "      <td>0</td>\n",
              "      <td>0</td>\n",
              "      <td>1</td>\n",
              "      <td>0</td>\n",
              "      <td>...</td>\n",
              "      <td>0</td>\n",
              "      <td>836</td>\n",
              "      <td>2000</td>\n",
              "      <td>350.0</td>\n",
              "      <td>2</td>\n",
              "      <td>2000</td>\n",
              "      <td>12</td>\n",
              "      <td>9</td>\n",
              "      <td>2008</td>\n",
              "      <td>1145</td>\n",
              "    </tr>\n",
              "    <tr>\n",
              "      <th>...</th>\n",
              "      <td>...</td>\n",
              "      <td>...</td>\n",
              "      <td>...</td>\n",
              "      <td>...</td>\n",
              "      <td>...</td>\n",
              "      <td>...</td>\n",
              "      <td>...</td>\n",
              "      <td>...</td>\n",
              "      <td>...</td>\n",
              "      <td>...</td>\n",
              "      <td>...</td>\n",
              "      <td>...</td>\n",
              "      <td>...</td>\n",
              "      <td>...</td>\n",
              "      <td>...</td>\n",
              "      <td>...</td>\n",
              "      <td>...</td>\n",
              "      <td>...</td>\n",
              "      <td>...</td>\n",
              "      <td>...</td>\n",
              "      <td>...</td>\n",
              "    </tr>\n",
              "    <tr>\n",
              "      <th>1455</th>\n",
              "      <td>0</td>\n",
              "      <td>0</td>\n",
              "      <td>0</td>\n",
              "      <td>1</td>\n",
              "      <td>0</td>\n",
              "      <td>0</td>\n",
              "      <td>0</td>\n",
              "      <td>0</td>\n",
              "      <td>1</td>\n",
              "      <td>0</td>\n",
              "      <td>...</td>\n",
              "      <td>0</td>\n",
              "      <td>460</td>\n",
              "      <td>1999</td>\n",
              "      <td>0.0</td>\n",
              "      <td>2</td>\n",
              "      <td>2000</td>\n",
              "      <td>8</td>\n",
              "      <td>7</td>\n",
              "      <td>2007</td>\n",
              "      <td>953</td>\n",
              "    </tr>\n",
              "    <tr>\n",
              "      <th>1456</th>\n",
              "      <td>0</td>\n",
              "      <td>0</td>\n",
              "      <td>0</td>\n",
              "      <td>1</td>\n",
              "      <td>0</td>\n",
              "      <td>0</td>\n",
              "      <td>0</td>\n",
              "      <td>0</td>\n",
              "      <td>1</td>\n",
              "      <td>0</td>\n",
              "      <td>...</td>\n",
              "      <td>163</td>\n",
              "      <td>500</td>\n",
              "      <td>1978</td>\n",
              "      <td>119.0</td>\n",
              "      <td>2</td>\n",
              "      <td>1988</td>\n",
              "      <td>2</td>\n",
              "      <td>7</td>\n",
              "      <td>2010</td>\n",
              "      <td>1542</td>\n",
              "    </tr>\n",
              "    <tr>\n",
              "      <th>1457</th>\n",
              "      <td>0</td>\n",
              "      <td>0</td>\n",
              "      <td>0</td>\n",
              "      <td>1</td>\n",
              "      <td>0</td>\n",
              "      <td>0</td>\n",
              "      <td>0</td>\n",
              "      <td>0</td>\n",
              "      <td>1</td>\n",
              "      <td>0</td>\n",
              "      <td>...</td>\n",
              "      <td>0</td>\n",
              "      <td>252</td>\n",
              "      <td>1941</td>\n",
              "      <td>0.0</td>\n",
              "      <td>2</td>\n",
              "      <td>2006</td>\n",
              "      <td>5</td>\n",
              "      <td>9</td>\n",
              "      <td>2010</td>\n",
              "      <td>1152</td>\n",
              "    </tr>\n",
              "    <tr>\n",
              "      <th>1458</th>\n",
              "      <td>0</td>\n",
              "      <td>0</td>\n",
              "      <td>0</td>\n",
              "      <td>1</td>\n",
              "      <td>0</td>\n",
              "      <td>0</td>\n",
              "      <td>0</td>\n",
              "      <td>0</td>\n",
              "      <td>1</td>\n",
              "      <td>0</td>\n",
              "      <td>...</td>\n",
              "      <td>1029</td>\n",
              "      <td>240</td>\n",
              "      <td>1950</td>\n",
              "      <td>0.0</td>\n",
              "      <td>1</td>\n",
              "      <td>1996</td>\n",
              "      <td>4</td>\n",
              "      <td>5</td>\n",
              "      <td>2010</td>\n",
              "      <td>1078</td>\n",
              "    </tr>\n",
              "    <tr>\n",
              "      <th>1459</th>\n",
              "      <td>0</td>\n",
              "      <td>0</td>\n",
              "      <td>0</td>\n",
              "      <td>1</td>\n",
              "      <td>0</td>\n",
              "      <td>0</td>\n",
              "      <td>0</td>\n",
              "      <td>0</td>\n",
              "      <td>1</td>\n",
              "      <td>0</td>\n",
              "      <td>...</td>\n",
              "      <td>290</td>\n",
              "      <td>276</td>\n",
              "      <td>1965</td>\n",
              "      <td>0.0</td>\n",
              "      <td>1</td>\n",
              "      <td>1965</td>\n",
              "      <td>6</td>\n",
              "      <td>6</td>\n",
              "      <td>2008</td>\n",
              "      <td>1256</td>\n",
              "    </tr>\n",
              "  </tbody>\n",
              "</table>\n",
              "<p>1460 rows × 106 columns</p>\n",
              "</div>\n",
              "      <button class=\"colab-df-convert\" onclick=\"convertToInteractive('df-b6cb8a92-f563-4bd0-b87a-d4c1a699925a')\"\n",
              "              title=\"Convert this dataframe to an interactive table.\"\n",
              "              style=\"display:none;\">\n",
              "        \n",
              "  <svg xmlns=\"http://www.w3.org/2000/svg\" height=\"24px\"viewBox=\"0 0 24 24\"\n",
              "       width=\"24px\">\n",
              "    <path d=\"M0 0h24v24H0V0z\" fill=\"none\"/>\n",
              "    <path d=\"M18.56 5.44l.94 2.06.94-2.06 2.06-.94-2.06-.94-.94-2.06-.94 2.06-2.06.94zm-11 1L8.5 8.5l.94-2.06 2.06-.94-2.06-.94L8.5 2.5l-.94 2.06-2.06.94zm10 10l.94 2.06.94-2.06 2.06-.94-2.06-.94-.94-2.06-.94 2.06-2.06.94z\"/><path d=\"M17.41 7.96l-1.37-1.37c-.4-.4-.92-.59-1.43-.59-.52 0-1.04.2-1.43.59L10.3 9.45l-7.72 7.72c-.78.78-.78 2.05 0 2.83L4 21.41c.39.39.9.59 1.41.59.51 0 1.02-.2 1.41-.59l7.78-7.78 2.81-2.81c.8-.78.8-2.07 0-2.86zM5.41 20L4 18.59l7.72-7.72 1.47 1.35L5.41 20z\"/>\n",
              "  </svg>\n",
              "      </button>\n",
              "      \n",
              "  <style>\n",
              "    .colab-df-container {\n",
              "      display:flex;\n",
              "      flex-wrap:wrap;\n",
              "      gap: 12px;\n",
              "    }\n",
              "\n",
              "    .colab-df-convert {\n",
              "      background-color: #E8F0FE;\n",
              "      border: none;\n",
              "      border-radius: 50%;\n",
              "      cursor: pointer;\n",
              "      display: none;\n",
              "      fill: #1967D2;\n",
              "      height: 32px;\n",
              "      padding: 0 0 0 0;\n",
              "      width: 32px;\n",
              "    }\n",
              "\n",
              "    .colab-df-convert:hover {\n",
              "      background-color: #E2EBFA;\n",
              "      box-shadow: 0px 1px 2px rgba(60, 64, 67, 0.3), 0px 1px 3px 1px rgba(60, 64, 67, 0.15);\n",
              "      fill: #174EA6;\n",
              "    }\n",
              "\n",
              "    [theme=dark] .colab-df-convert {\n",
              "      background-color: #3B4455;\n",
              "      fill: #D2E3FC;\n",
              "    }\n",
              "\n",
              "    [theme=dark] .colab-df-convert:hover {\n",
              "      background-color: #434B5C;\n",
              "      box-shadow: 0px 1px 3px 1px rgba(0, 0, 0, 0.15);\n",
              "      filter: drop-shadow(0px 1px 2px rgba(0, 0, 0, 0.3));\n",
              "      fill: #FFFFFF;\n",
              "    }\n",
              "  </style>\n",
              "\n",
              "      <script>\n",
              "        const buttonEl =\n",
              "          document.querySelector('#df-b6cb8a92-f563-4bd0-b87a-d4c1a699925a button.colab-df-convert');\n",
              "        buttonEl.style.display =\n",
              "          google.colab.kernel.accessAllowed ? 'block' : 'none';\n",
              "\n",
              "        async function convertToInteractive(key) {\n",
              "          const element = document.querySelector('#df-b6cb8a92-f563-4bd0-b87a-d4c1a699925a');\n",
              "          const dataTable =\n",
              "            await google.colab.kernel.invokeFunction('convertToInteractive',\n",
              "                                                     [key], {});\n",
              "          if (!dataTable) return;\n",
              "\n",
              "          const docLinkHtml = 'Like what you see? Visit the ' +\n",
              "            '<a target=\"_blank\" href=https://colab.research.google.com/notebooks/data_table.ipynb>data table notebook</a>'\n",
              "            + ' to learn more about interactive tables.';\n",
              "          element.innerHTML = '';\n",
              "          dataTable['output_type'] = 'display_data';\n",
              "          await google.colab.output.renderOutput(dataTable, element);\n",
              "          const docLink = document.createElement('div');\n",
              "          docLink.innerHTML = docLinkHtml;\n",
              "          element.appendChild(docLink);\n",
              "        }\n",
              "      </script>\n",
              "    </div>\n",
              "  </div>\n",
              "  "
            ]
          },
          "metadata": {},
          "execution_count": 35
        }
      ]
    },
    {
      "cell_type": "code",
      "metadata": {
        "id": "_YN320_WQNwu",
        "colab": {
          "base_uri": "https://localhost:8080/"
        },
        "outputId": "0878b8a3-25a0-4b1b-f359-e7d1a9459656"
      },
      "source": [
        "# to_numpy() is used to return a NumPy ndarray representing the values in given Series or Index\n",
        "# to_numpy() converts the pandas Series to a numpy Array\n",
        "numpy_array = new_data.to_numpy()\n",
        "numpy_array"
      ],
      "execution_count": null,
      "outputs": [
        {
          "output_type": "execute_result",
          "data": {
            "text/plain": [
              "array([[   0.,    0.,    0., ...,    8., 2008.,  856.],\n",
              "       [   0.,    0.,    0., ...,    6., 2007., 1262.],\n",
              "       [   0.,    0.,    0., ...,    6., 2008.,  920.],\n",
              "       ...,\n",
              "       [   0.,    0.,    0., ...,    9., 2010., 1152.],\n",
              "       [   0.,    0.,    0., ...,    5., 2010., 1078.],\n",
              "       [   0.,    0.,    0., ...,    6., 2008., 1256.]])"
            ]
          },
          "metadata": {},
          "execution_count": 36
        }
      ]
    },
    {
      "cell_type": "code",
      "metadata": {
        "id": "6nrO1F1VRPf8"
      },
      "source": [
        "#Check how the first row in the new numpy array looks like \n",
        "numpy_array[1]"
      ],
      "execution_count": null,
      "outputs": []
    },
    {
      "cell_type": "code",
      "metadata": {
        "id": "Y82pjfwTWP9i"
      },
      "source": [
        "#we need to standardize the dataset at this point\n",
        "#StrandardScaler() helps to get standardized distribution, with a zero mean and standard deviation of one (unit variance)\n",
        "#It standardizes features by subtracting the mean value from the feature and then dividing the result by feature standard deviation\n",
        "#before we standardize the dataset, we need to transform and fit the data using fit_transform()\n",
        "#Fit_tranform is used to scale the training data and also learn the scaling parameters of that data\n",
        "#our standardized data represents variable X in the Y= mX + b equation\n",
        "standardized_data=StandardScaler().fit_transform(numpy_array)"
      ],
      "execution_count": null,
      "outputs": []
    },
    {
      "cell_type": "code",
      "metadata": {
        "id": "tCusHeVeOEZR"
      },
      "source": [
        "#look at a smaple of the standerdized dataset\n",
        "standardized_data[0]"
      ],
      "execution_count": null,
      "outputs": []
    },
    {
      "cell_type": "code",
      "metadata": {
        "id": "1fUYBYpdQmJO"
      },
      "source": [
        "#Target feature represents the Y variable in the Y=mX+b equation\n",
        "target_feature=data[target]\n",
        "target_feature"
      ],
      "execution_count": null,
      "outputs": []
    },
    {
      "cell_type": "code",
      "metadata": {
        "id": "D3vzwzUoQ0to"
      },
      "source": [
        "#we convert the target feature to numpy array using to_numpy()\n",
        "target_feature=target_feature.to_numpy()"
      ],
      "execution_count": null,
      "outputs": []
    },
    {
      "cell_type": "code",
      "metadata": {
        "id": "t6fa6-LVRGhW",
        "colab": {
          "base_uri": "https://localhost:8080/"
        },
        "outputId": "9fbb12db-fce4-4f43-f95a-85b7dcaac347"
      },
      "source": [
        "target_feature.shape"
      ],
      "execution_count": null,
      "outputs": [
        {
          "output_type": "execute_result",
          "data": {
            "text/plain": [
              "(1460, 1)"
            ]
          },
          "metadata": {},
          "execution_count": 42
        }
      ]
    },
    {
      "cell_type": "code",
      "metadata": {
        "id": "uu6nQchuPV7N"
      },
      "source": [
        "#A peek of how our target_feature looks like in numpy array's format\n",
        "target_feature"
      ],
      "execution_count": null,
      "outputs": []
    },
    {
      "cell_type": "code",
      "metadata": {
        "id": "R_ZoVQpBPY2V"
      },
      "source": [
        "#Stranderdize the target feature using StrandardScaler()\n",
        "#fit and transform the target feature using fit_transform()\n",
        "target_feature=StandardScaler().fit_transform(target_feature)"
      ],
      "execution_count": null,
      "outputs": []
    },
    {
      "cell_type": "code",
      "metadata": {
        "id": "kZ7Og1k1Pc6I"
      },
      "source": [
        "#A peek of how our target_feature looks like after standardization\n",
        "target_feature"
      ],
      "execution_count": null,
      "outputs": []
    },
    {
      "cell_type": "code",
      "metadata": {
        "colab": {
          "base_uri": "https://localhost:8080/"
        },
        "id": "4k4WmbkQPd_O",
        "outputId": "101c629e-c283-46cc-d945-c4b50aec9ded"
      },
      "source": [
        "standardized_data.shape"
      ],
      "execution_count": null,
      "outputs": [
        {
          "output_type": "execute_result",
          "data": {
            "text/plain": [
              "(1460, 106)"
            ]
          },
          "metadata": {},
          "execution_count": 46
        }
      ]
    },
    {
      "cell_type": "markdown",
      "metadata": {
        "id": "WQ5eImT_P1xu"
      },
      "source": [
        "# ***Extracting Feature Using PCA***"
      ]
    },
    {
      "cell_type": "code",
      "metadata": {
        "id": "9ve1tg9_P8lu"
      },
      "source": [
        "#PCA: Principal Component Analysis\n",
        "#specifying the number of components we are extracting\n",
        "pca=PCA(n_components=4)"
      ],
      "execution_count": null,
      "outputs": []
    },
    {
      "cell_type": "code",
      "metadata": {
        "id": "SnovQPpmQN_G"
      },
      "source": [
        "#fit and transform the target feature using fit_transform()\n",
        "p_components=pca.fit_transform(standardized_data)"
      ],
      "execution_count": null,
      "outputs": []
    },
    {
      "cell_type": "code",
      "metadata": {
        "id": "k6lWd7pLQiJH",
        "colab": {
          "base_uri": "https://localhost:8080/"
        },
        "outputId": "c05da113-3fd2-4e2f-c96e-b13681fa93c3"
      },
      "source": [
        "#peek of the components extracted \n",
        "p_components"
      ],
      "execution_count": null,
      "outputs": [
        {
          "output_type": "execute_result",
          "data": {
            "text/plain": [
              "array([[ 2.4433097 , -1.27896883, -1.03947519, -1.41896811],\n",
              "       [ 0.31645543,  2.63975128, -1.23374282, -0.62225771],\n",
              "       [ 2.85722029, -0.81104242, -0.88052826, -1.16898726],\n",
              "       ...,\n",
              "       [ 1.26182064, -0.85886434,  2.77459822, -1.49861468],\n",
              "       [-2.85096273,  3.29384871, -1.45669888,  0.44760798],\n",
              "       [-0.77738539,  2.79013395, -1.36336903, -0.8580012 ]])"
            ]
          },
          "metadata": {},
          "execution_count": 86
        }
      ]
    },
    {
      "cell_type": "code",
      "metadata": {
        "colab": {
          "base_uri": "https://localhost:8080/"
        },
        "id": "PSJL6HXWQu_Y",
        "outputId": "0dad4820-0ee6-43e4-8b9b-3b931ae06332"
      },
      "source": [
        "#explained_variance_ratio_ method of PCA is used to get the ratio of variance (eigenvalue / total eigenvalues)\n",
        "pca.explained_variance_ratio_"
      ],
      "execution_count": null,
      "outputs": [
        {
          "output_type": "execute_result",
          "data": {
            "text/plain": [
              "array([0.10560233, 0.04472091, 0.04181921, 0.03216466])"
            ]
          },
          "metadata": {},
          "execution_count": 87
        }
      ]
    },
    {
      "cell_type": "markdown",
      "source": [
        "# Doing Feature Selection"
      ],
      "metadata": {
        "id": "vIXtELi75WSl"
      }
    },
    {
      "cell_type": "code",
      "source": [
        "#get regressor to find the L1 Coefficients for the columns in the PCS\n",
        "regressor = LassoCV();\n",
        "pca_data = pd.DataFrame(p_components)\n",
        "pca_data\n",
        "regressor.fit(pca_data, np.ravel(target_feature))"
      ],
      "metadata": {
        "colab": {
          "base_uri": "https://localhost:8080/"
        },
        "id": "Z4GWLNM95fep",
        "outputId": "75ea77a1-f45f-40e1-e721-f2b77e9832c0"
      },
      "execution_count": null,
      "outputs": [
        {
          "output_type": "execute_result",
          "data": {
            "text/plain": [
              "LassoCV()"
            ]
          },
          "metadata": {},
          "execution_count": 92
        }
      ]
    },
    {
      "cell_type": "code",
      "source": [
        "# Get the regressor cofficients for each column\n",
        "coef  = pd.Series(regressor.coef_, index = pca_data.columns)\n",
        "num_of_selected_features = sum(coef != 0)\n",
        "num_of_selected_features\n"
      ],
      "metadata": {
        "colab": {
          "base_uri": "https://localhost:8080/"
        },
        "id": "KA7yJS196aOe",
        "outputId": "bd5b02ab-0410-4d8e-9b2c-8c6917caa815"
      },
      "execution_count": null,
      "outputs": [
        {
          "output_type": "execute_result",
          "data": {
            "text/plain": [
              "4"
            ]
          },
          "metadata": {},
          "execution_count": 93
        }
      ]
    },
    {
      "cell_type": "markdown",
      "metadata": {
        "id": "fv4hFLXzSKxg"
      },
      "source": [
        "# New Dataset Ready for Training\n"
      ]
    },
    {
      "cell_type": "markdown",
      "metadata": {
        "id": "OFeVTQwcUT0a"
      },
      "source": [
        "# Train the Model"
      ]
    },
    {
      "cell_type": "code",
      "metadata": {
        "id": "uZZnI0haUWSQ"
      },
      "source": [
        "#LassoCV is the Lasso Regression model to have a more accurate prediction\n",
        "#CV is cross-validation and the default fold is 5\n",
        "reg=LassoCV()"
      ],
      "execution_count": null,
      "outputs": []
    },
    {
      "cell_type": "code",
      "source": [
        "#get pca with 2 components\n",
        "pca = PCA(n_components = 2)\n",
        "p_components = pca.fit_transform(standardized_data)\n",
        "pca_data = pd.DataFrame(p_components)"
      ],
      "metadata": {
        "id": "tqKSoE4i9zp-"
      },
      "execution_count": null,
      "outputs": []
    },
    {
      "cell_type": "code",
      "metadata": {
        "colab": {
          "base_uri": "https://localhost:8080/"
        },
        "id": "mvatk3RxUa7k",
        "outputId": "b8c33fe5-7e1c-4d6c-fb51-1cc1a4b05a44"
      },
      "source": [
        "#reshape target feature\n",
        "#r_target_feature = np.reshape(target_feature, (-1, 1))\n",
        "reg.fit(pca_data, np.ravel(target_feature))"
      ],
      "execution_count": null,
      "outputs": [
        {
          "output_type": "execute_result",
          "data": {
            "text/plain": [
              "LassoCV()"
            ]
          },
          "metadata": {},
          "execution_count": 97
        }
      ]
    },
    {
      "cell_type": "code",
      "metadata": {
        "colab": {
          "base_uri": "https://localhost:8080/"
        },
        "id": "a3unaxeaUscx",
        "outputId": "ad5e7b08-c113-44ae-a9bd-546a72f05cb0"
      },
      "source": [
        "#\n",
        "reg.coef_"
      ],
      "execution_count": null,
      "outputs": [
        {
          "output_type": "execute_result",
          "data": {
            "text/plain": [
              "array([0.25387739, 0.01887053])"
            ]
          },
          "metadata": {},
          "execution_count": 98
        }
      ]
    }
  ]
}